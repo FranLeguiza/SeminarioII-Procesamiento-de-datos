{
 "cells": [
  {
   "cell_type": "code",
   "execution_count": 0,
   "metadata": {
    "application/vnd.databricks.v1+cell": {
     "cellMetadata": {
      "byteLimit": 2048000,
      "rowLimit": 10000
     },
     "inputWidgets": {},
     "nuid": "b49bfe08-392d-4bf2-b344-9059894314cd",
     "showTitle": false,
     "title": ""
    }
   },
   "outputs": [
    {
     "output_type": "display_data",
     "data": {
      "application/vnd.databricks.v1+bamboolib_hint": "{\"pd.DataFrames\": [], \"version\": \"0.0.1\"}",
      "text/plain": []
     },
     "metadata": {},
     "output_type": "display_data"
    }
   ],
   "source": [
    "import pandas as pd\n",
    "from pyspark.ml.feature import VectorAssembler\n",
    "from pyspark.ml.evaluation import BinaryClassificationEvaluator\n"
   ]
  },
  {
   "cell_type": "code",
   "execution_count": 0,
   "metadata": {
    "application/vnd.databricks.v1+cell": {
     "cellMetadata": {
      "byteLimit": 2048000,
      "rowLimit": 10000
     },
     "inputWidgets": {},
     "nuid": "c5c20158-ea63-4a38-9b59-4a463526bbdd",
     "showTitle": false,
     "title": ""
    }
   },
   "outputs": [
    {
     "output_type": "display_data",
     "data": {
      "text/html": [
       "<style scoped>\n",
       "  .table-result-container {\n",
       "    max-height: 300px;\n",
       "    overflow: auto;\n",
       "  }\n",
       "  table, th, td {\n",
       "    border: 1px solid black;\n",
       "    border-collapse: collapse;\n",
       "  }\n",
       "  th, td {\n",
       "    padding: 5px;\n",
       "  }\n",
       "  th {\n",
       "    text-align: left;\n",
       "  }\n",
       "</style><div class='table-result-container'><table class='table-result'><thead style='background-color: white'><tr><th>path</th><th>name</th><th>size</th><th>modificationTime</th></tr></thead><tbody><tr><td>dbfs:/mnt/seminario/CustomerAddress</td><td>CustomerAddress</td><td>4285</td><td>1685863239000</td></tr><tr><td>dbfs:/mnt/seminario/DimAddress</td><td>DimAddress</td><td>28557</td><td>1685863238000</td></tr><tr><td>dbfs:/mnt/seminario/DimCustomer</td><td>DimCustomer</td><td>70895</td><td>1685863237000</td></tr><tr><td>dbfs:/mnt/seminario/DimOrder</td><td>DimOrder</td><td>67405</td><td>1685863235000</td></tr><tr><td>dbfs:/mnt/seminario/DimProduct</td><td>DimProduct</td><td>30274</td><td>1685863233000</td></tr><tr><td>dbfs:/mnt/seminario/FactSales</td><td>FactSales</td><td>5997</td><td>1685863887000</td></tr></tbody></table></div>"
      ]
     },
     "metadata": {
      "application/vnd.databricks.v1+output": {
       "addedWidgets": {},
       "aggData": [],
       "aggError": "",
       "aggOverflow": false,
       "aggSchema": [],
       "aggSeriesLimitReached": false,
       "aggType": "",
       "arguments": {},
       "columnCustomDisplayInfos": {},
       "data": [
        [
         "dbfs:/mnt/seminario/CustomerAddress",
         "CustomerAddress",
         4285,
         1685863239000
        ],
        [
         "dbfs:/mnt/seminario/DimAddress",
         "DimAddress",
         28557,
         1685863238000
        ],
        [
         "dbfs:/mnt/seminario/DimCustomer",
         "DimCustomer",
         70895,
         1685863237000
        ],
        [
         "dbfs:/mnt/seminario/DimOrder",
         "DimOrder",
         67405,
         1685863235000
        ],
        [
         "dbfs:/mnt/seminario/DimProduct",
         "DimProduct",
         30274,
         1685863233000
        ],
        [
         "dbfs:/mnt/seminario/FactSales",
         "FactSales",
         5997,
         1685863887000
        ]
       ],
       "datasetInfos": [],
       "dbfsResultPath": null,
       "isJsonSchema": true,
       "metadata": {
        "isDbfsCommandResult": false
       },
       "overflow": false,
       "plotOptions": {
        "customPlotOptions": {},
        "displayType": "table",
        "pivotAggregation": null,
        "pivotColumns": null,
        "xColumns": null,
        "yColumns": null
       },
       "removedWidgets": [],
       "schema": [
        {
         "metadata": "{}",
         "name": "path",
         "type": "\"string\""
        },
        {
         "metadata": "{}",
         "name": "name",
         "type": "\"string\""
        },
        {
         "metadata": "{}",
         "name": "size",
         "type": "\"long\""
        },
        {
         "metadata": "{}",
         "name": "modificationTime",
         "type": "\"long\""
        }
       ],
       "type": "table"
      }
     },
     "output_type": "display_data"
    }
   ],
   "source": [
    "%fs \n",
    "ls /mnt/seminario"
   ]
  },
  {
   "cell_type": "code",
   "execution_count": 0,
   "metadata": {
    "application/vnd.databricks.v1+cell": {
     "cellMetadata": {
      "byteLimit": 2048000,
      "rowLimit": 10000
     },
     "inputWidgets": {},
     "nuid": "7e3b7fbc-5b3f-48ac-8415-98e8e3de3d97",
     "showTitle": false,
     "title": ""
    }
   },
   "outputs": [],
   "source": [
    "df = pd.read_csv(\"/dbfs/mnt/seminario/DimOrder\")"
   ]
  },
  {
   "cell_type": "code",
   "execution_count": 0,
   "metadata": {
    "application/vnd.databricks.v1+cell": {
     "cellMetadata": {
      "byteLimit": 2048000,
      "rowLimit": 10000
     },
     "inputWidgets": {},
     "nuid": "19b08ae4-d47a-460c-99e3-6159aa396e45",
     "showTitle": false,
     "title": ""
    }
   },
   "outputs": [
    {
     "output_type": "display_data",
     "data": {
      "text/html": [
       "<div>\n",
       "<style scoped>\n",
       "    .dataframe tbody tr th:only-of-type {\n",
       "        vertical-align: middle;\n",
       "    }\n",
       "\n",
       "    .dataframe tbody tr th {\n",
       "        vertical-align: top;\n",
       "    }\n",
       "\n",
       "    .dataframe thead th {\n",
       "        text-align: right;\n",
       "    }\n",
       "</style>\n",
       "<table border=\"1\" class=\"dataframe\">\n",
       "  <thead>\n",
       "    <tr style=\"text-align: right;\">\n",
       "      <th></th>\n",
       "      <th>SalesOrderID</th>\n",
       "      <th>SalesOrderDetailID</th>\n",
       "      <th>OrderQty</th>\n",
       "      <th>ProductID</th>\n",
       "      <th>UnitPrice</th>\n",
       "      <th>UnitPriceDiscount</th>\n",
       "      <th>LineTotal</th>\n",
       "      <th>Status</th>\n",
       "      <th>AccountNumber</th>\n",
       "      <th>CustomerID</th>\n",
       "      <th>ShipMethod</th>\n",
       "      <th>SubTotal</th>\n",
       "      <th>TaxAmt</th>\n",
       "      <th>Freight</th>\n",
       "      <th>TotalDue</th>\n",
       "      <th>orderID</th>\n",
       "    </tr>\n",
       "  </thead>\n",
       "  <tbody>\n",
       "    <tr>\n",
       "      <th>0</th>\n",
       "      <td>71774</td>\n",
       "      <td>110562</td>\n",
       "      <td>1</td>\n",
       "      <td>836</td>\n",
       "      <td>356.898</td>\n",
       "      <td>0.0</td>\n",
       "      <td>356.898</td>\n",
       "      <td>5</td>\n",
       "      <td>10-4020-000609</td>\n",
       "      <td>29847</td>\n",
       "      <td>CARGO TRANSPORT 5</td>\n",
       "      <td>880.3484</td>\n",
       "      <td>70.4279</td>\n",
       "      <td>22.0087</td>\n",
       "      <td>972.7850</td>\n",
       "      <td>1</td>\n",
       "    </tr>\n",
       "    <tr>\n",
       "      <th>1</th>\n",
       "      <td>71774</td>\n",
       "      <td>110563</td>\n",
       "      <td>1</td>\n",
       "      <td>822</td>\n",
       "      <td>356.898</td>\n",
       "      <td>0.0</td>\n",
       "      <td>356.898</td>\n",
       "      <td>5</td>\n",
       "      <td>10-4020-000609</td>\n",
       "      <td>29847</td>\n",
       "      <td>CARGO TRANSPORT 5</td>\n",
       "      <td>880.3484</td>\n",
       "      <td>70.4279</td>\n",
       "      <td>22.0087</td>\n",
       "      <td>972.7850</td>\n",
       "      <td>2</td>\n",
       "    </tr>\n",
       "    <tr>\n",
       "      <th>2</th>\n",
       "      <td>71776</td>\n",
       "      <td>110567</td>\n",
       "      <td>1</td>\n",
       "      <td>907</td>\n",
       "      <td>63.900</td>\n",
       "      <td>0.0</td>\n",
       "      <td>63.900</td>\n",
       "      <td>5</td>\n",
       "      <td>10-4020-000106</td>\n",
       "      <td>30072</td>\n",
       "      <td>CARGO TRANSPORT 5</td>\n",
       "      <td>78.8100</td>\n",
       "      <td>6.3048</td>\n",
       "      <td>1.9703</td>\n",
       "      <td>87.0851</td>\n",
       "      <td>3</td>\n",
       "    </tr>\n",
       "    <tr>\n",
       "      <th>3</th>\n",
       "      <td>71780</td>\n",
       "      <td>110616</td>\n",
       "      <td>4</td>\n",
       "      <td>905</td>\n",
       "      <td>218.454</td>\n",
       "      <td>0.0</td>\n",
       "      <td>873.816</td>\n",
       "      <td>5</td>\n",
       "      <td>10-4020-000340</td>\n",
       "      <td>30113</td>\n",
       "      <td>CARGO TRANSPORT 5</td>\n",
       "      <td>38418.6895</td>\n",
       "      <td>3073.4952</td>\n",
       "      <td>960.4672</td>\n",
       "      <td>42452.6519</td>\n",
       "      <td>4</td>\n",
       "    </tr>\n",
       "    <tr>\n",
       "      <th>4</th>\n",
       "      <td>71780</td>\n",
       "      <td>110617</td>\n",
       "      <td>2</td>\n",
       "      <td>983</td>\n",
       "      <td>461.694</td>\n",
       "      <td>0.0</td>\n",
       "      <td>923.388</td>\n",
       "      <td>5</td>\n",
       "      <td>10-4020-000340</td>\n",
       "      <td>30113</td>\n",
       "      <td>CARGO TRANSPORT 5</td>\n",
       "      <td>38418.6895</td>\n",
       "      <td>3073.4952</td>\n",
       "      <td>960.4672</td>\n",
       "      <td>42452.6519</td>\n",
       "      <td>5</td>\n",
       "    </tr>\n",
       "  </tbody>\n",
       "</table>\n",
       "</div>"
      ]
     },
     "metadata": {
      "application/vnd.databricks.v1+output": {
       "addedWidgets": {},
       "arguments": {},
       "data": "<div>\n<style scoped>\n    .dataframe tbody tr th:only-of-type {\n        vertical-align: middle;\n    }\n\n    .dataframe tbody tr th {\n        vertical-align: top;\n    }\n\n    .dataframe thead th {\n        text-align: right;\n    }\n</style>\n<table border=\"1\" class=\"dataframe\">\n  <thead>\n    <tr style=\"text-align: right;\">\n      <th></th>\n      <th>SalesOrderID</th>\n      <th>SalesOrderDetailID</th>\n      <th>OrderQty</th>\n      <th>ProductID</th>\n      <th>UnitPrice</th>\n      <th>UnitPriceDiscount</th>\n      <th>LineTotal</th>\n      <th>Status</th>\n      <th>AccountNumber</th>\n      <th>CustomerID</th>\n      <th>ShipMethod</th>\n      <th>SubTotal</th>\n      <th>TaxAmt</th>\n      <th>Freight</th>\n      <th>TotalDue</th>\n      <th>orderID</th>\n    </tr>\n  </thead>\n  <tbody>\n    <tr>\n      <th>0</th>\n      <td>71774</td>\n      <td>110562</td>\n      <td>1</td>\n      <td>836</td>\n      <td>356.898</td>\n      <td>0.0</td>\n      <td>356.898</td>\n      <td>5</td>\n      <td>10-4020-000609</td>\n      <td>29847</td>\n      <td>CARGO TRANSPORT 5</td>\n      <td>880.3484</td>\n      <td>70.4279</td>\n      <td>22.0087</td>\n      <td>972.7850</td>\n      <td>1</td>\n    </tr>\n    <tr>\n      <th>1</th>\n      <td>71774</td>\n      <td>110563</td>\n      <td>1</td>\n      <td>822</td>\n      <td>356.898</td>\n      <td>0.0</td>\n      <td>356.898</td>\n      <td>5</td>\n      <td>10-4020-000609</td>\n      <td>29847</td>\n      <td>CARGO TRANSPORT 5</td>\n      <td>880.3484</td>\n      <td>70.4279</td>\n      <td>22.0087</td>\n      <td>972.7850</td>\n      <td>2</td>\n    </tr>\n    <tr>\n      <th>2</th>\n      <td>71776</td>\n      <td>110567</td>\n      <td>1</td>\n      <td>907</td>\n      <td>63.900</td>\n      <td>0.0</td>\n      <td>63.900</td>\n      <td>5</td>\n      <td>10-4020-000106</td>\n      <td>30072</td>\n      <td>CARGO TRANSPORT 5</td>\n      <td>78.8100</td>\n      <td>6.3048</td>\n      <td>1.9703</td>\n      <td>87.0851</td>\n      <td>3</td>\n    </tr>\n    <tr>\n      <th>3</th>\n      <td>71780</td>\n      <td>110616</td>\n      <td>4</td>\n      <td>905</td>\n      <td>218.454</td>\n      <td>0.0</td>\n      <td>873.816</td>\n      <td>5</td>\n      <td>10-4020-000340</td>\n      <td>30113</td>\n      <td>CARGO TRANSPORT 5</td>\n      <td>38418.6895</td>\n      <td>3073.4952</td>\n      <td>960.4672</td>\n      <td>42452.6519</td>\n      <td>4</td>\n    </tr>\n    <tr>\n      <th>4</th>\n      <td>71780</td>\n      <td>110617</td>\n      <td>2</td>\n      <td>983</td>\n      <td>461.694</td>\n      <td>0.0</td>\n      <td>923.388</td>\n      <td>5</td>\n      <td>10-4020-000340</td>\n      <td>30113</td>\n      <td>CARGO TRANSPORT 5</td>\n      <td>38418.6895</td>\n      <td>3073.4952</td>\n      <td>960.4672</td>\n      <td>42452.6519</td>\n      <td>5</td>\n    </tr>\n  </tbody>\n</table>\n</div>",
       "datasetInfos": [],
       "metadata": {},
       "removedWidgets": [],
       "textData": null,
       "type": "htmlSandbox"
      }
     },
     "output_type": "display_data"
    }
   ],
   "source": [
    "df.head(5)"
   ]
  },
  {
   "cell_type": "code",
   "execution_count": 0,
   "metadata": {
    "application/vnd.databricks.v1+cell": {
     "cellMetadata": {
      "byteLimit": 2048000,
      "rowLimit": 10000
     },
     "inputWidgets": {},
     "nuid": "13e1e4f3-2c60-4fd2-b6c2-4849f830c52d",
     "showTitle": false,
     "title": ""
    }
   },
   "outputs": [],
   "source": [
    "dfml = df[[\"OrderQty\",\"UnitPrice\",\"LineTotal\",\"SubTotal\",\"TaxAmt\",\"TotalDue\",\"ProductID\"]]"
   ]
  },
  {
   "cell_type": "code",
   "execution_count": 0,
   "metadata": {
    "application/vnd.databricks.v1+cell": {
     "cellMetadata": {
      "byteLimit": 2048000,
      "rowLimit": 10000
     },
     "inputWidgets": {},
     "nuid": "6faab27a-b23c-4526-9f6f-49566f7b2bb6",
     "showTitle": false,
     "title": ""
    }
   },
   "outputs": [
    {
     "output_type": "display_data",
     "data": {
      "text/html": [
       "<div>\n",
       "<style scoped>\n",
       "    .dataframe tbody tr th:only-of-type {\n",
       "        vertical-align: middle;\n",
       "    }\n",
       "\n",
       "    .dataframe tbody tr th {\n",
       "        vertical-align: top;\n",
       "    }\n",
       "\n",
       "    .dataframe thead th {\n",
       "        text-align: right;\n",
       "    }\n",
       "</style>\n",
       "<table border=\"1\" class=\"dataframe\">\n",
       "  <thead>\n",
       "    <tr style=\"text-align: right;\">\n",
       "      <th></th>\n",
       "      <th>OrderQty</th>\n",
       "      <th>UnitPrice</th>\n",
       "      <th>LineTotal</th>\n",
       "      <th>SubTotal</th>\n",
       "      <th>TaxAmt</th>\n",
       "      <th>TotalDue</th>\n",
       "      <th>ProductID</th>\n",
       "    </tr>\n",
       "  </thead>\n",
       "  <tbody>\n",
       "    <tr>\n",
       "      <th>0</th>\n",
       "      <td>1</td>\n",
       "      <td>356.898</td>\n",
       "      <td>356.898</td>\n",
       "      <td>880.3484</td>\n",
       "      <td>70.4279</td>\n",
       "      <td>972.7850</td>\n",
       "      <td>836</td>\n",
       "    </tr>\n",
       "    <tr>\n",
       "      <th>1</th>\n",
       "      <td>1</td>\n",
       "      <td>356.898</td>\n",
       "      <td>356.898</td>\n",
       "      <td>880.3484</td>\n",
       "      <td>70.4279</td>\n",
       "      <td>972.7850</td>\n",
       "      <td>822</td>\n",
       "    </tr>\n",
       "    <tr>\n",
       "      <th>2</th>\n",
       "      <td>1</td>\n",
       "      <td>63.900</td>\n",
       "      <td>63.900</td>\n",
       "      <td>78.8100</td>\n",
       "      <td>6.3048</td>\n",
       "      <td>87.0851</td>\n",
       "      <td>907</td>\n",
       "    </tr>\n",
       "    <tr>\n",
       "      <th>3</th>\n",
       "      <td>4</td>\n",
       "      <td>218.454</td>\n",
       "      <td>873.816</td>\n",
       "      <td>38418.6895</td>\n",
       "      <td>3073.4952</td>\n",
       "      <td>42452.6519</td>\n",
       "      <td>905</td>\n",
       "    </tr>\n",
       "    <tr>\n",
       "      <th>4</th>\n",
       "      <td>2</td>\n",
       "      <td>461.694</td>\n",
       "      <td>923.388</td>\n",
       "      <td>38418.6895</td>\n",
       "      <td>3073.4952</td>\n",
       "      <td>42452.6519</td>\n",
       "      <td>983</td>\n",
       "    </tr>\n",
       "  </tbody>\n",
       "</table>\n",
       "</div>"
      ]
     },
     "metadata": {
      "application/vnd.databricks.v1+output": {
       "addedWidgets": {},
       "arguments": {},
       "data": "<div>\n<style scoped>\n    .dataframe tbody tr th:only-of-type {\n        vertical-align: middle;\n    }\n\n    .dataframe tbody tr th {\n        vertical-align: top;\n    }\n\n    .dataframe thead th {\n        text-align: right;\n    }\n</style>\n<table border=\"1\" class=\"dataframe\">\n  <thead>\n    <tr style=\"text-align: right;\">\n      <th></th>\n      <th>OrderQty</th>\n      <th>UnitPrice</th>\n      <th>LineTotal</th>\n      <th>SubTotal</th>\n      <th>TaxAmt</th>\n      <th>TotalDue</th>\n      <th>ProductID</th>\n    </tr>\n  </thead>\n  <tbody>\n    <tr>\n      <th>0</th>\n      <td>1</td>\n      <td>356.898</td>\n      <td>356.898</td>\n      <td>880.3484</td>\n      <td>70.4279</td>\n      <td>972.7850</td>\n      <td>836</td>\n    </tr>\n    <tr>\n      <th>1</th>\n      <td>1</td>\n      <td>356.898</td>\n      <td>356.898</td>\n      <td>880.3484</td>\n      <td>70.4279</td>\n      <td>972.7850</td>\n      <td>822</td>\n    </tr>\n    <tr>\n      <th>2</th>\n      <td>1</td>\n      <td>63.900</td>\n      <td>63.900</td>\n      <td>78.8100</td>\n      <td>6.3048</td>\n      <td>87.0851</td>\n      <td>907</td>\n    </tr>\n    <tr>\n      <th>3</th>\n      <td>4</td>\n      <td>218.454</td>\n      <td>873.816</td>\n      <td>38418.6895</td>\n      <td>3073.4952</td>\n      <td>42452.6519</td>\n      <td>905</td>\n    </tr>\n    <tr>\n      <th>4</th>\n      <td>2</td>\n      <td>461.694</td>\n      <td>923.388</td>\n      <td>38418.6895</td>\n      <td>3073.4952</td>\n      <td>42452.6519</td>\n      <td>983</td>\n    </tr>\n  </tbody>\n</table>\n</div>",
       "datasetInfos": [],
       "metadata": {},
       "removedWidgets": [],
       "textData": null,
       "type": "htmlSandbox"
      }
     },
     "output_type": "display_data"
    }
   ],
   "source": [
    "dfml.head(5)"
   ]
  },
  {
   "cell_type": "code",
   "execution_count": 0,
   "metadata": {
    "application/vnd.databricks.v1+cell": {
     "cellMetadata": {
      "byteLimit": 2048000,
      "rowLimit": 10000
     },
     "inputWidgets": {},
     "nuid": "f3ae9f8e-856f-4624-adaa-559fab67412e",
     "showTitle": false,
     "title": ""
    }
   },
   "outputs": [
    {
     "output_type": "stream",
     "name": "stderr",
     "output_type": "stream",
     "text": [
      "<command-3828184621353771>:1: SettingWithCopyWarning: \nA value is trying to be set on a copy of a slice from a DataFrame.\nTry using .loc[row_indexer,col_indexer] = value instead\n\nSee the caveats in the documentation: https://pandas.pydata.org/pandas-docs/stable/user_guide/indexing.html#returning-a-view-versus-a-copy\n  dfml[\"Target\"] = [1 if s>=2  else 0 for s in dfml[\"OrderQty\"]]\n"
     ]
    }
   ],
   "source": [
    "dfml[\"Target\"] = [1 if s>=2  else 0 for s in dfml[\"OrderQty\"]]"
   ]
  },
  {
   "cell_type": "code",
   "execution_count": 0,
   "metadata": {
    "application/vnd.databricks.v1+cell": {
     "cellMetadata": {
      "byteLimit": 2048000,
      "rowLimit": 10000
     },
     "inputWidgets": {},
     "nuid": "00e38c7a-7432-4fb7-b0f6-1154daeea1bf",
     "showTitle": false,
     "title": ""
    }
   },
   "outputs": [
    {
     "output_type": "display_data",
     "data": {
      "text/html": [
       "<div>\n",
       "<style scoped>\n",
       "    .dataframe tbody tr th:only-of-type {\n",
       "        vertical-align: middle;\n",
       "    }\n",
       "\n",
       "    .dataframe tbody tr th {\n",
       "        vertical-align: top;\n",
       "    }\n",
       "\n",
       "    .dataframe thead th {\n",
       "        text-align: right;\n",
       "    }\n",
       "</style>\n",
       "<table border=\"1\" class=\"dataframe\">\n",
       "  <thead>\n",
       "    <tr style=\"text-align: right;\">\n",
       "      <th></th>\n",
       "      <th>OrderQty</th>\n",
       "      <th>UnitPrice</th>\n",
       "      <th>LineTotal</th>\n",
       "      <th>SubTotal</th>\n",
       "      <th>SubTotal</th>\n",
       "      <th>TaxAmt</th>\n",
       "      <th>TotalDue</th>\n",
       "      <th>ProductID</th>\n",
       "      <th>Target</th>\n",
       "    </tr>\n",
       "  </thead>\n",
       "  <tbody>\n",
       "    <tr>\n",
       "      <th>0</th>\n",
       "      <td>1</td>\n",
       "      <td>356.898</td>\n",
       "      <td>356.898</td>\n",
       "      <td>880.3484</td>\n",
       "      <td>880.3484</td>\n",
       "      <td>70.4279</td>\n",
       "      <td>972.7850</td>\n",
       "      <td>836</td>\n",
       "      <td>0</td>\n",
       "    </tr>\n",
       "    <tr>\n",
       "      <th>1</th>\n",
       "      <td>1</td>\n",
       "      <td>356.898</td>\n",
       "      <td>356.898</td>\n",
       "      <td>880.3484</td>\n",
       "      <td>880.3484</td>\n",
       "      <td>70.4279</td>\n",
       "      <td>972.7850</td>\n",
       "      <td>822</td>\n",
       "      <td>0</td>\n",
       "    </tr>\n",
       "    <tr>\n",
       "      <th>2</th>\n",
       "      <td>1</td>\n",
       "      <td>63.900</td>\n",
       "      <td>63.900</td>\n",
       "      <td>78.8100</td>\n",
       "      <td>78.8100</td>\n",
       "      <td>6.3048</td>\n",
       "      <td>87.0851</td>\n",
       "      <td>907</td>\n",
       "      <td>0</td>\n",
       "    </tr>\n",
       "    <tr>\n",
       "      <th>3</th>\n",
       "      <td>4</td>\n",
       "      <td>218.454</td>\n",
       "      <td>873.816</td>\n",
       "      <td>38418.6895</td>\n",
       "      <td>38418.6895</td>\n",
       "      <td>3073.4952</td>\n",
       "      <td>42452.6519</td>\n",
       "      <td>905</td>\n",
       "      <td>1</td>\n",
       "    </tr>\n",
       "    <tr>\n",
       "      <th>4</th>\n",
       "      <td>2</td>\n",
       "      <td>461.694</td>\n",
       "      <td>923.388</td>\n",
       "      <td>38418.6895</td>\n",
       "      <td>38418.6895</td>\n",
       "      <td>3073.4952</td>\n",
       "      <td>42452.6519</td>\n",
       "      <td>983</td>\n",
       "      <td>1</td>\n",
       "    </tr>\n",
       "  </tbody>\n",
       "</table>\n",
       "</div>"
      ]
     },
     "metadata": {
      "application/vnd.databricks.v1+output": {
       "addedWidgets": {},
       "arguments": {},
       "data": "<div>\n<style scoped>\n    .dataframe tbody tr th:only-of-type {\n        vertical-align: middle;\n    }\n\n    .dataframe tbody tr th {\n        vertical-align: top;\n    }\n\n    .dataframe thead th {\n        text-align: right;\n    }\n</style>\n<table border=\"1\" class=\"dataframe\">\n  <thead>\n    <tr style=\"text-align: right;\">\n      <th></th>\n      <th>OrderQty</th>\n      <th>UnitPrice</th>\n      <th>LineTotal</th>\n      <th>SubTotal</th>\n      <th>SubTotal</th>\n      <th>TaxAmt</th>\n      <th>TotalDue</th>\n      <th>ProductID</th>\n      <th>Target</th>\n    </tr>\n  </thead>\n  <tbody>\n    <tr>\n      <th>0</th>\n      <td>1</td>\n      <td>356.898</td>\n      <td>356.898</td>\n      <td>880.3484</td>\n      <td>880.3484</td>\n      <td>70.4279</td>\n      <td>972.7850</td>\n      <td>836</td>\n      <td>0</td>\n    </tr>\n    <tr>\n      <th>1</th>\n      <td>1</td>\n      <td>356.898</td>\n      <td>356.898</td>\n      <td>880.3484</td>\n      <td>880.3484</td>\n      <td>70.4279</td>\n      <td>972.7850</td>\n      <td>822</td>\n      <td>0</td>\n    </tr>\n    <tr>\n      <th>2</th>\n      <td>1</td>\n      <td>63.900</td>\n      <td>63.900</td>\n      <td>78.8100</td>\n      <td>78.8100</td>\n      <td>6.3048</td>\n      <td>87.0851</td>\n      <td>907</td>\n      <td>0</td>\n    </tr>\n    <tr>\n      <th>3</th>\n      <td>4</td>\n      <td>218.454</td>\n      <td>873.816</td>\n      <td>38418.6895</td>\n      <td>38418.6895</td>\n      <td>3073.4952</td>\n      <td>42452.6519</td>\n      <td>905</td>\n      <td>1</td>\n    </tr>\n    <tr>\n      <th>4</th>\n      <td>2</td>\n      <td>461.694</td>\n      <td>923.388</td>\n      <td>38418.6895</td>\n      <td>38418.6895</td>\n      <td>3073.4952</td>\n      <td>42452.6519</td>\n      <td>983</td>\n      <td>1</td>\n    </tr>\n  </tbody>\n</table>\n</div>",
       "datasetInfos": [],
       "metadata": {},
       "removedWidgets": [],
       "textData": null,
       "type": "htmlSandbox"
      }
     },
     "output_type": "display_data"
    }
   ],
   "source": [
    "dfml.head(5)"
   ]
  },
  {
   "cell_type": "code",
   "execution_count": 0,
   "metadata": {
    "application/vnd.databricks.v1+cell": {
     "cellMetadata": {
      "byteLimit": 2048000,
      "rowLimit": 10000
     },
     "inputWidgets": {},
     "nuid": "488c8a71-fa9b-43a5-a879-7f70876653f4",
     "showTitle": false,
     "title": ""
    }
   },
   "outputs": [
    {
     "output_type": "stream",
     "name": "stdout",
     "output_type": "stream",
     "text": [
      "+--------+---------+---------+----------+---------+----------+---------+------+--------------------+\n|OrderQty|UnitPrice|LineTotal|  SubTotal|   TaxAmt|  TotalDue|ProductID|Target|            features|\n+--------+---------+---------+----------+---------+----------+---------+------+--------------------+\n|       1|  356.898|  356.898|  880.3484|  70.4279|   972.785|      836|     0|[1.0,356.898,356....|\n|       1|  356.898|  356.898|  880.3484|  70.4279|   972.785|      822|     0|[1.0,356.898,356....|\n|       1|     63.9|     63.9|     78.81|   6.3048|   87.0851|      907|     0|[1.0,63.9,63.9,78...|\n|       4|  218.454|  873.816|38418.6895|3073.4952|42452.6519|      905|     1|[4.0,218.454,873....|\n|       2|  461.694|  923.388|38418.6895|3073.4952|42452.6519|      983|     1|[2.0,461.694,923....|\n+--------+---------+---------+----------+---------+----------+---------+------+--------------------+\nonly showing top 5 rows\n\n"
     ]
    }
   ],
   "source": [
    "df = spark.createDataFrame(dfml)\n",
    "\n",
    "crt = [\"OrderQty\",\"UnitPrice\",\"LineTotal\",\"SubTotal\",\"TaxAmt\",\"TotalDue\",\"ProductID\"]\n",
    "\n",
    "assembler = VectorAssembler(inputCols=crt,outputCol='features')\n",
    "\n",
    "transform_data = assembler.transform(df)\n",
    "\n",
    "transform_data.show(5)"
   ]
  },
  {
   "cell_type": "code",
   "execution_count": 0,
   "metadata": {
    "application/vnd.databricks.v1+cell": {
     "cellMetadata": {
      "byteLimit": 2048000,
      "rowLimit": 10000
     },
     "inputWidgets": {},
     "nuid": "a320712f-8b98-4a06-8088-6548215bfa4c",
     "showTitle": false,
     "title": ""
    }
   },
   "outputs": [],
   "source": [
    "#entrenamiento del modelo\n",
    "(training_data, test_data) = transform_data.randomSplit([0.8,0.2])"
   ]
  },
  {
   "cell_type": "code",
   "execution_count": 0,
   "metadata": {
    "application/vnd.databricks.v1+cell": {
     "cellMetadata": {
      "byteLimit": 2048000,
      "rowLimit": 10000
     },
     "inputWidgets": {},
     "nuid": "9d8e889e-921d-44c0-8eaa-638c28ff1187",
     "showTitle": false,
     "title": ""
    }
   },
   "outputs": [],
   "source": [
    "from pyspark.ml.classification import RandomForestClassifier\n",
    "\n",
    "rf = RandomForestClassifier(labelCol='Target',\n",
    "                          featuresCol='features',\n",
    "                          maxDepth=5)\n",
    "\n",
    "model = rf.fit(training_data)"
   ]
  },
  {
   "cell_type": "code",
   "execution_count": 0,
   "metadata": {
    "application/vnd.databricks.v1+cell": {
     "cellMetadata": {
      "byteLimit": 2048000,
      "rowLimit": 10000
     },
     "inputWidgets": {},
     "nuid": "c7a1b76a-4bfd-4dc9-82cb-0ab45cf8e9b6",
     "showTitle": false,
     "title": ""
    }
   },
   "outputs": [
    {
     "output_type": "stream",
     "name": "stdout",
     "output_type": "stream",
     "text": [
      "+--------+---------+---------+-----------+---------+----------+---------+------+--------------------+--------------------+--------------------+----------+\n|OrderQty|UnitPrice|LineTotal|   SubTotal|   TaxAmt|  TotalDue|ProductID|Target|            features|       rawPrediction|         probability|prediction|\n+--------+---------+---------+-----------+---------+----------+---------+------+--------------------+--------------------+--------------------+----------+\n|       1|     63.9|     63.9|      78.81|   6.3048|   87.0851|      907|     0|[1.0,63.9,63.9,78...|[18.8333333333333...|[0.94166666666666...|       0.0|\n|       1|  112.998|  67.7988| 38418.6895|3073.4952|42452.6519|      985|     0|[1.0,112.998,67.7...|[19.3333333333333...|[0.96666666666666...|       0.0|\n|       1|  323.994|  323.994| 38418.6895|3073.4952|42452.6519|      990|     0|[1.0,323.994,323....|          [20.0,0.0]|           [1.0,0.0]|       0.0|\n|       1|   445.41|   445.41|108561.8317|8684.9465|119960.824|      959|     0|[1.0,445.41,445.4...|          [20.0,0.0]|           [1.0,0.0]|       0.0|\n|       1|   809.76|   809.76| 38418.6895|3073.4952|42452.6519|      743|     0|[1.0,809.76,809.7...|          [19.0,1.0]|         [0.95,0.05]|       0.0|\n|       2|   24.294|   48.588| 38418.6895|3073.4952|42452.6519|      935|     1|[2.0,24.294,48.58...|          [0.0,20.0]|           [0.0,1.0]|       1.0|\n|       2|  112.998| 135.5976| 38418.6895|3073.4952|42452.6519|      984|     1|[2.0,112.998,135....|[0.33333333333333...|[0.01666666666666...|       1.0|\n|       2|  242.994|  485.988| 39785.3304|3182.8264|43962.7901|      951|     1|[2.0,242.994,485....|          [0.0,20.0]|           [0.0,1.0]|       1.0|\n|       2|  602.346| 1204.692| 39785.3304|3182.8264|43962.7901|      885|     1|[2.0,602.346,1204...|          [0.0,20.0]|           [0.0,1.0]|       1.0|\n|       2|    858.9|   1717.8| 83858.4261|6708.6741|92663.5609|      718|     1|[2.0,858.9,1717.8...|          [0.0,20.0]|           [0.0,1.0]|       1.0|\n+--------+---------+---------+-----------+---------+----------+---------+------+--------------------+--------------------+--------------------+----------+\nonly showing top 10 rows\n\n"
     ]
    }
   ],
   "source": [
    "predictions = model.transform(test_data)\n",
    "predictions.show(10)"
   ]
  },
  {
   "cell_type": "code",
   "execution_count": 0,
   "metadata": {
    "application/vnd.databricks.v1+cell": {
     "cellMetadata": {
      "byteLimit": 2048000,
      "rowLimit": 10000
     },
     "inputWidgets": {},
     "nuid": "c298e86a-7bcc-4af9-9ce8-df9762414371",
     "showTitle": false,
     "title": ""
    }
   },
   "outputs": [
    {
     "output_type": "stream",
     "name": "stderr",
     "output_type": "stream",
     "text": [
      "/databricks/spark/python/pyspark/sql/pandas/conversion.py:122: UserWarning: toPandas attempted Arrow optimization because 'spark.sql.execution.arrow.pyspark.enabled' is set to true; however, failed by the reason below:\n  Unable to convert the field features. If this column is not necessary, you may consider dropping it or converting to primitive type before the conversion.\nDirect cause: Unsupported type in conversion to Arrow: VectorUDT()\nAttempting non-optimization as 'spark.sql.execution.arrow.pyspark.fallback.enabled' is set to true.\n  warn(msg)\n"
     ]
    },
    {
     "output_type": "display_data",
     "data": {
      "text/html": [
       "<div>\n",
       "<style scoped>\n",
       "    .dataframe tbody tr th:only-of-type {\n",
       "        vertical-align: middle;\n",
       "    }\n",
       "\n",
       "    .dataframe tbody tr th {\n",
       "        vertical-align: top;\n",
       "    }\n",
       "\n",
       "    .dataframe thead th {\n",
       "        text-align: right;\n",
       "    }\n",
       "</style>\n",
       "<table border=\"1\" class=\"dataframe\">\n",
       "  <thead>\n",
       "    <tr style=\"text-align: right;\">\n",
       "      <th></th>\n",
       "      <th>OrderQty</th>\n",
       "      <th>UnitPrice</th>\n",
       "      <th>LineTotal</th>\n",
       "      <th>SubTotal</th>\n",
       "      <th>TaxAmt</th>\n",
       "      <th>TotalDue</th>\n",
       "      <th>ProductID</th>\n",
       "      <th>Target</th>\n",
       "      <th>features</th>\n",
       "      <th>rawPrediction</th>\n",
       "      <th>probability</th>\n",
       "      <th>prediction</th>\n",
       "    </tr>\n",
       "  </thead>\n",
       "  <tbody>\n",
       "    <tr>\n",
       "      <th>0</th>\n",
       "      <td>1</td>\n",
       "      <td>63.900</td>\n",
       "      <td>63.9000</td>\n",
       "      <td>78.8100</td>\n",
       "      <td>6.3048</td>\n",
       "      <td>87.0851</td>\n",
       "      <td>907</td>\n",
       "      <td>0</td>\n",
       "      <td>[1.0, 63.9, 63.9, 78.81, 6.3048, 87.0851, 907.0]</td>\n",
       "      <td>[18.833333333333336, 1.1666666666666667]</td>\n",
       "      <td>[0.9416666666666667, 0.05833333333333333]</td>\n",
       "      <td>0.0</td>\n",
       "    </tr>\n",
       "    <tr>\n",
       "      <th>1</th>\n",
       "      <td>1</td>\n",
       "      <td>112.998</td>\n",
       "      <td>67.7988</td>\n",
       "      <td>38418.6895</td>\n",
       "      <td>3073.4952</td>\n",
       "      <td>42452.6519</td>\n",
       "      <td>985</td>\n",
       "      <td>0</td>\n",
       "      <td>[1.0, 112.998, 67.7988, 38418.6895, 3073.4952,...</td>\n",
       "      <td>[19.333333333333336, 0.6666666666666666]</td>\n",
       "      <td>[0.9666666666666666, 0.033333333333333326]</td>\n",
       "      <td>0.0</td>\n",
       "    </tr>\n",
       "    <tr>\n",
       "      <th>2</th>\n",
       "      <td>1</td>\n",
       "      <td>323.994</td>\n",
       "      <td>323.9940</td>\n",
       "      <td>38418.6895</td>\n",
       "      <td>3073.4952</td>\n",
       "      <td>42452.6519</td>\n",
       "      <td>990</td>\n",
       "      <td>0</td>\n",
       "      <td>[1.0, 323.994, 323.994, 38418.6895, 3073.4952,...</td>\n",
       "      <td>[20.0, 0.0]</td>\n",
       "      <td>[1.0, 0.0]</td>\n",
       "      <td>0.0</td>\n",
       "    </tr>\n",
       "    <tr>\n",
       "      <th>3</th>\n",
       "      <td>1</td>\n",
       "      <td>445.410</td>\n",
       "      <td>445.4100</td>\n",
       "      <td>108561.8317</td>\n",
       "      <td>8684.9465</td>\n",
       "      <td>119960.8240</td>\n",
       "      <td>959</td>\n",
       "      <td>0</td>\n",
       "      <td>[1.0, 445.41, 445.41, 108561.8317, 8684.9465, ...</td>\n",
       "      <td>[20.0, 0.0]</td>\n",
       "      <td>[1.0, 0.0]</td>\n",
       "      <td>0.0</td>\n",
       "    </tr>\n",
       "    <tr>\n",
       "      <th>4</th>\n",
       "      <td>1</td>\n",
       "      <td>809.760</td>\n",
       "      <td>809.7600</td>\n",
       "      <td>38418.6895</td>\n",
       "      <td>3073.4952</td>\n",
       "      <td>42452.6519</td>\n",
       "      <td>743</td>\n",
       "      <td>0</td>\n",
       "      <td>[1.0, 809.76, 809.76, 38418.6895, 3073.4952, 4...</td>\n",
       "      <td>[19.0, 1.0]</td>\n",
       "      <td>[0.95, 0.05]</td>\n",
       "      <td>0.0</td>\n",
       "    </tr>\n",
       "    <tr>\n",
       "      <th>...</th>\n",
       "      <td>...</td>\n",
       "      <td>...</td>\n",
       "      <td>...</td>\n",
       "      <td>...</td>\n",
       "      <td>...</td>\n",
       "      <td>...</td>\n",
       "      <td>...</td>\n",
       "      <td>...</td>\n",
       "      <td>...</td>\n",
       "      <td>...</td>\n",
       "      <td>...</td>\n",
       "      <td>...</td>\n",
       "    </tr>\n",
       "    <tr>\n",
       "      <th>110</th>\n",
       "      <td>5</td>\n",
       "      <td>818.700</td>\n",
       "      <td>4093.5000</td>\n",
       "      <td>98278.6910</td>\n",
       "      <td>7862.2953</td>\n",
       "      <td>108597.9536</td>\n",
       "      <td>748</td>\n",
       "      <td>1</td>\n",
       "      <td>[5.0, 818.7, 4093.5, 98278.691, 7862.2953, 108...</td>\n",
       "      <td>[0.0, 20.0]</td>\n",
       "      <td>[0.0, 1.0]</td>\n",
       "      <td>1.0</td>\n",
       "    </tr>\n",
       "    <tr>\n",
       "      <th>111</th>\n",
       "      <td>5</td>\n",
       "      <td>1376.994</td>\n",
       "      <td>6884.9700</td>\n",
       "      <td>98278.6910</td>\n",
       "      <td>7862.2953</td>\n",
       "      <td>108597.9536</td>\n",
       "      <td>784</td>\n",
       "      <td>1</td>\n",
       "      <td>[5.0, 1376.994, 6884.97, 98278.691, 7862.2953,...</td>\n",
       "      <td>[0.0, 20.0]</td>\n",
       "      <td>[0.0, 1.0]</td>\n",
       "      <td>1.0</td>\n",
       "    </tr>\n",
       "    <tr>\n",
       "      <th>112</th>\n",
       "      <td>6</td>\n",
       "      <td>1466.010</td>\n",
       "      <td>8796.0600</td>\n",
       "      <td>88812.8625</td>\n",
       "      <td>7105.0290</td>\n",
       "      <td>98138.2131</td>\n",
       "      <td>795</td>\n",
       "      <td>1</td>\n",
       "      <td>[6.0, 1466.01, 8796.06, 88812.8625, 7105.029, ...</td>\n",
       "      <td>[0.0, 20.0]</td>\n",
       "      <td>[0.0, 1.0]</td>\n",
       "      <td>1.0</td>\n",
       "    </tr>\n",
       "    <tr>\n",
       "      <th>113</th>\n",
       "      <td>7</td>\n",
       "      <td>818.700</td>\n",
       "      <td>5730.9000</td>\n",
       "      <td>98278.6910</td>\n",
       "      <td>7862.2953</td>\n",
       "      <td>108597.9536</td>\n",
       "      <td>742</td>\n",
       "      <td>1</td>\n",
       "      <td>[7.0, 818.7, 5730.9, 98278.691, 7862.2953, 108...</td>\n",
       "      <td>[0.0, 20.0]</td>\n",
       "      <td>[0.0, 1.0]</td>\n",
       "      <td>1.0</td>\n",
       "    </tr>\n",
       "    <tr>\n",
       "      <th>114</th>\n",
       "      <td>8</td>\n",
       "      <td>1376.994</td>\n",
       "      <td>11015.9520</td>\n",
       "      <td>98278.6910</td>\n",
       "      <td>7862.2953</td>\n",
       "      <td>108597.9536</td>\n",
       "      <td>782</td>\n",
       "      <td>1</td>\n",
       "      <td>[8.0, 1376.994, 11015.952, 98278.691, 7862.295...</td>\n",
       "      <td>[0.0, 20.0]</td>\n",
       "      <td>[0.0, 1.0]</td>\n",
       "      <td>1.0</td>\n",
       "    </tr>\n",
       "  </tbody>\n",
       "</table>\n",
       "<p>115 rows × 12 columns</p>\n",
       "</div>"
      ]
     },
     "metadata": {
      "application/vnd.databricks.v1+output": {
       "addedWidgets": {},
       "arguments": {},
       "data": "<div>\n<style scoped>\n    .dataframe tbody tr th:only-of-type {\n        vertical-align: middle;\n    }\n\n    .dataframe tbody tr th {\n        vertical-align: top;\n    }\n\n    .dataframe thead th {\n        text-align: right;\n    }\n</style>\n<table border=\"1\" class=\"dataframe\">\n  <thead>\n    <tr style=\"text-align: right;\">\n      <th></th>\n      <th>OrderQty</th>\n      <th>UnitPrice</th>\n      <th>LineTotal</th>\n      <th>SubTotal</th>\n      <th>TaxAmt</th>\n      <th>TotalDue</th>\n      <th>ProductID</th>\n      <th>Target</th>\n      <th>features</th>\n      <th>rawPrediction</th>\n      <th>probability</th>\n      <th>prediction</th>\n    </tr>\n  </thead>\n  <tbody>\n    <tr>\n      <th>0</th>\n      <td>1</td>\n      <td>63.900</td>\n      <td>63.9000</td>\n      <td>78.8100</td>\n      <td>6.3048</td>\n      <td>87.0851</td>\n      <td>907</td>\n      <td>0</td>\n      <td>[1.0, 63.9, 63.9, 78.81, 6.3048, 87.0851, 907.0]</td>\n      <td>[18.833333333333336, 1.1666666666666667]</td>\n      <td>[0.9416666666666667, 0.05833333333333333]</td>\n      <td>0.0</td>\n    </tr>\n    <tr>\n      <th>1</th>\n      <td>1</td>\n      <td>112.998</td>\n      <td>67.7988</td>\n      <td>38418.6895</td>\n      <td>3073.4952</td>\n      <td>42452.6519</td>\n      <td>985</td>\n      <td>0</td>\n      <td>[1.0, 112.998, 67.7988, 38418.6895, 3073.4952,...</td>\n      <td>[19.333333333333336, 0.6666666666666666]</td>\n      <td>[0.9666666666666666, 0.033333333333333326]</td>\n      <td>0.0</td>\n    </tr>\n    <tr>\n      <th>2</th>\n      <td>1</td>\n      <td>323.994</td>\n      <td>323.9940</td>\n      <td>38418.6895</td>\n      <td>3073.4952</td>\n      <td>42452.6519</td>\n      <td>990</td>\n      <td>0</td>\n      <td>[1.0, 323.994, 323.994, 38418.6895, 3073.4952,...</td>\n      <td>[20.0, 0.0]</td>\n      <td>[1.0, 0.0]</td>\n      <td>0.0</td>\n    </tr>\n    <tr>\n      <th>3</th>\n      <td>1</td>\n      <td>445.410</td>\n      <td>445.4100</td>\n      <td>108561.8317</td>\n      <td>8684.9465</td>\n      <td>119960.8240</td>\n      <td>959</td>\n      <td>0</td>\n      <td>[1.0, 445.41, 445.41, 108561.8317, 8684.9465, ...</td>\n      <td>[20.0, 0.0]</td>\n      <td>[1.0, 0.0]</td>\n      <td>0.0</td>\n    </tr>\n    <tr>\n      <th>4</th>\n      <td>1</td>\n      <td>809.760</td>\n      <td>809.7600</td>\n      <td>38418.6895</td>\n      <td>3073.4952</td>\n      <td>42452.6519</td>\n      <td>743</td>\n      <td>0</td>\n      <td>[1.0, 809.76, 809.76, 38418.6895, 3073.4952, 4...</td>\n      <td>[19.0, 1.0]</td>\n      <td>[0.95, 0.05]</td>\n      <td>0.0</td>\n    </tr>\n    <tr>\n      <th>...</th>\n      <td>...</td>\n      <td>...</td>\n      <td>...</td>\n      <td>...</td>\n      <td>...</td>\n      <td>...</td>\n      <td>...</td>\n      <td>...</td>\n      <td>...</td>\n      <td>...</td>\n      <td>...</td>\n      <td>...</td>\n    </tr>\n    <tr>\n      <th>110</th>\n      <td>5</td>\n      <td>818.700</td>\n      <td>4093.5000</td>\n      <td>98278.6910</td>\n      <td>7862.2953</td>\n      <td>108597.9536</td>\n      <td>748</td>\n      <td>1</td>\n      <td>[5.0, 818.7, 4093.5, 98278.691, 7862.2953, 108...</td>\n      <td>[0.0, 20.0]</td>\n      <td>[0.0, 1.0]</td>\n      <td>1.0</td>\n    </tr>\n    <tr>\n      <th>111</th>\n      <td>5</td>\n      <td>1376.994</td>\n      <td>6884.9700</td>\n      <td>98278.6910</td>\n      <td>7862.2953</td>\n      <td>108597.9536</td>\n      <td>784</td>\n      <td>1</td>\n      <td>[5.0, 1376.994, 6884.97, 98278.691, 7862.2953,...</td>\n      <td>[0.0, 20.0]</td>\n      <td>[0.0, 1.0]</td>\n      <td>1.0</td>\n    </tr>\n    <tr>\n      <th>112</th>\n      <td>6</td>\n      <td>1466.010</td>\n      <td>8796.0600</td>\n      <td>88812.8625</td>\n      <td>7105.0290</td>\n      <td>98138.2131</td>\n      <td>795</td>\n      <td>1</td>\n      <td>[6.0, 1466.01, 8796.06, 88812.8625, 7105.029, ...</td>\n      <td>[0.0, 20.0]</td>\n      <td>[0.0, 1.0]</td>\n      <td>1.0</td>\n    </tr>\n    <tr>\n      <th>113</th>\n      <td>7</td>\n      <td>818.700</td>\n      <td>5730.9000</td>\n      <td>98278.6910</td>\n      <td>7862.2953</td>\n      <td>108597.9536</td>\n      <td>742</td>\n      <td>1</td>\n      <td>[7.0, 818.7, 5730.9, 98278.691, 7862.2953, 108...</td>\n      <td>[0.0, 20.0]</td>\n      <td>[0.0, 1.0]</td>\n      <td>1.0</td>\n    </tr>\n    <tr>\n      <th>114</th>\n      <td>8</td>\n      <td>1376.994</td>\n      <td>11015.9520</td>\n      <td>98278.6910</td>\n      <td>7862.2953</td>\n      <td>108597.9536</td>\n      <td>782</td>\n      <td>1</td>\n      <td>[8.0, 1376.994, 11015.952, 98278.691, 7862.295...</td>\n      <td>[0.0, 20.0]</td>\n      <td>[0.0, 1.0]</td>\n      <td>1.0</td>\n    </tr>\n  </tbody>\n</table>\n<p>115 rows × 12 columns</p>\n</div>",
       "datasetInfos": [],
       "metadata": {},
       "removedWidgets": [],
       "textData": null,
       "type": "htmlSandbox"
      }
     },
     "output_type": "display_data"
    }
   ],
   "source": [
    "predictionspandas = predictions.select(\"*\").toPandas()\n",
    "predictionspandas"
   ]
  },
  {
   "cell_type": "code",
   "execution_count": 0,
   "metadata": {
    "application/vnd.databricks.v1+cell": {
     "cellMetadata": {
      "byteLimit": 2048000,
      "rowLimit": 10000
     },
     "inputWidgets": {},
     "nuid": "9a6b9314-78f6-4191-92b2-ae1c0d99dd97",
     "showTitle": false,
     "title": ""
    }
   },
   "outputs": [
    {
     "output_type": "stream",
     "name": "stdout",
     "output_type": "stream",
     "text": [
      "Out[31]: BinaryClassificationEvaluator_2a004dae6a06"
     ]
    }
   ],
   "source": [
    "evaluator = BinaryClassificationEvaluator()  \n",
    "evaluator.setRawPredictionCol('prediction')\n",
    "evaluator.setLabelCol('Target')"
   ]
  },
  {
   "cell_type": "code",
   "execution_count": 0,
   "metadata": {
    "application/vnd.databricks.v1+cell": {
     "cellMetadata": {
      "byteLimit": 2048000,
      "rowLimit": 10000
     },
     "inputWidgets": {},
     "nuid": "405191ae-2db8-48c2-95ee-ef3df66b9fed",
     "showTitle": false,
     "title": ""
    }
   },
   "outputs": [
    {
     "output_type": "stream",
     "name": "stdout",
     "output_type": "stream",
     "text": [
      "Out[32]: 1.0"
     ]
    }
   ],
   "source": [
    "exactitud = evaluator.evaluate(predictions)\n",
    "exactitud"
   ]
  },
  {
   "cell_type": "code",
   "execution_count": 0,
   "metadata": {
    "application/vnd.databricks.v1+cell": {
     "cellMetadata": {},
     "inputWidgets": {},
     "nuid": "ede7512a-c3d2-473a-ad41-b12e6e9f9bae",
     "showTitle": false,
     "title": ""
    }
   },
   "outputs": [],
   "source": []
  }
 ],
 "metadata": {
  "application/vnd.databricks.v1+notebook": {
   "dashboards": [],
   "language": "python",
   "notebookMetadata": {
    "mostRecentlyExecutedCommandWithImplicitDF": {
     "commandId": 3828184621353767,
     "dataframes": [
      "_sqldf"
     ]
    },
    "pythonIndentUnit": 4
   },
   "notebookName": "ML_BinaryClassification",
   "widgets": {}
  }
 },
 "nbformat": 4,
 "nbformat_minor": 0
}
